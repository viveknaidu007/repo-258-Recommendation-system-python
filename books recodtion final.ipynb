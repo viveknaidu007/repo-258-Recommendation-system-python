{
 "cells": [
  {
   "cell_type": "code",
   "execution_count": 1,
   "id": "621df20e-9d0f-4457-8ef1-9428f0c778f7",
   "metadata": {},
   "outputs": [
    {
     "name": "stdout",
     "output_type": "stream",
     "text": [
      "Dependencies Imported\n"
     ]
    }
   ],
   "source": [
    "import os\n",
    "import numpy as np\n",
    "import pandas as pd\n",
    "import matplotlib.pyplot as plt\n",
    "import seaborn as sns\n",
    "print('Dependencies Imported')"
   ]
  },
  {
   "cell_type": "code",
   "execution_count": 3,
   "id": "88660c9b-3d43-42d4-9209-8d528a3b0b27",
   "metadata": {},
   "outputs": [
    {
     "data": {
      "text/html": [
       "<div>\n",
       "<style scoped>\n",
       "    .dataframe tbody tr th:only-of-type {\n",
       "        vertical-align: middle;\n",
       "    }\n",
       "\n",
       "    .dataframe tbody tr th {\n",
       "        vertical-align: top;\n",
       "    }\n",
       "\n",
       "    .dataframe thead th {\n",
       "        text-align: right;\n",
       "    }\n",
       "</style>\n",
       "<table border=\"1\" class=\"dataframe\">\n",
       "  <thead>\n",
       "    <tr style=\"text-align: right;\">\n",
       "      <th></th>\n",
       "      <th>Title</th>\n",
       "      <th>Author</th>\n",
       "      <th>Genre</th>\n",
       "      <th>Height</th>\n",
       "      <th>Publisher</th>\n",
       "    </tr>\n",
       "  </thead>\n",
       "  <tbody>\n",
       "    <tr>\n",
       "      <th>0</th>\n",
       "      <td>Fundamentals of Wavelets</td>\n",
       "      <td>Goswami, Jaideva</td>\n",
       "      <td>signal_processing</td>\n",
       "      <td>228</td>\n",
       "      <td>Wiley</td>\n",
       "    </tr>\n",
       "    <tr>\n",
       "      <th>1</th>\n",
       "      <td>Data Smart</td>\n",
       "      <td>Foreman, John</td>\n",
       "      <td>data_science</td>\n",
       "      <td>235</td>\n",
       "      <td>Wiley</td>\n",
       "    </tr>\n",
       "    <tr>\n",
       "      <th>2</th>\n",
       "      <td>God Created the Integers</td>\n",
       "      <td>Hawking, Stephen</td>\n",
       "      <td>mathematics</td>\n",
       "      <td>197</td>\n",
       "      <td>Penguin</td>\n",
       "    </tr>\n",
       "    <tr>\n",
       "      <th>3</th>\n",
       "      <td>Superfreakonomics</td>\n",
       "      <td>Dubner, Stephen</td>\n",
       "      <td>economics</td>\n",
       "      <td>179</td>\n",
       "      <td>HarperCollins</td>\n",
       "    </tr>\n",
       "    <tr>\n",
       "      <th>4</th>\n",
       "      <td>Orientalism</td>\n",
       "      <td>Said, Edward</td>\n",
       "      <td>history</td>\n",
       "      <td>197</td>\n",
       "      <td>Penguin</td>\n",
       "    </tr>\n",
       "  </tbody>\n",
       "</table>\n",
       "</div>"
      ],
      "text/plain": [
       "                      Title            Author              Genre  Height  \\\n",
       "0  Fundamentals of Wavelets  Goswami, Jaideva  signal_processing     228   \n",
       "1                Data Smart     Foreman, John       data_science     235   \n",
       "2  God Created the Integers  Hawking, Stephen        mathematics     197   \n",
       "3         Superfreakonomics   Dubner, Stephen          economics     179   \n",
       "4               Orientalism      Said, Edward            history     197   \n",
       "\n",
       "       Publisher  \n",
       "0          Wiley  \n",
       "1          Wiley  \n",
       "2        Penguin  \n",
       "3  HarperCollins  \n",
       "4        Penguin  "
      ]
     },
     "execution_count": 3,
     "metadata": {},
     "output_type": "execute_result"
    }
   ],
   "source": [
    "data = pd.read_csv(\"books.csv\")\n",
    "data.head(5)"
   ]
  },
  {
   "cell_type": "code",
   "execution_count": 4,
   "id": "125596d7-7d25-4f89-8328-c5dc5e3e5bf2",
   "metadata": {},
   "outputs": [
    {
     "data": {
      "text/plain": [
       "(211, 5)"
      ]
     },
     "execution_count": 4,
     "metadata": {},
     "output_type": "execute_result"
    }
   ],
   "source": [
    "data.shape #3522 courses and 7 columns with different attributes\n"
   ]
  },
  {
   "cell_type": "code",
   "execution_count": 5,
   "id": "0923a8e1-a5c3-472f-8f38-1f9942659cea",
   "metadata": {},
   "outputs": [
    {
     "name": "stdout",
     "output_type": "stream",
     "text": [
      "<class 'pandas.core.frame.DataFrame'>\n",
      "RangeIndex: 211 entries, 0 to 210\n",
      "Data columns (total 5 columns):\n",
      " #   Column     Non-Null Count  Dtype \n",
      "---  ------     --------------  ----- \n",
      " 0   Title      211 non-null    object\n",
      " 1   Author     187 non-null    object\n",
      " 2   Genre      211 non-null    object\n",
      " 3   Height     211 non-null    int64 \n",
      " 4   Publisher  115 non-null    object\n",
      "dtypes: int64(1), object(4)\n",
      "memory usage: 8.4+ KB\n"
     ]
    }
   ],
   "source": [
    "data.info()\n"
   ]
  },
  {
   "cell_type": "code",
   "execution_count": 6,
   "id": "1a0bfb67-1c8d-4530-9976-50e4f7963927",
   "metadata": {},
   "outputs": [
    {
     "data": {
      "text/plain": [
       "Title         0\n",
       "Author       24\n",
       "Genre         0\n",
       "Height        0\n",
       "Publisher    96\n",
       "dtype: int64"
      ]
     },
     "execution_count": 6,
     "metadata": {},
     "output_type": "execute_result"
    }
   ],
   "source": [
    "data.isnull().sum() #no value is missing\n"
   ]
  },
  {
   "cell_type": "code",
   "execution_count": 7,
   "id": "fb7e5d88-ea7d-42e8-8fb6-10a13749ce26",
   "metadata": {},
   "outputs": [
    {
     "name": "stdout",
     "output_type": "stream",
     "text": [
      "                                                 Title              Author  \\\n",
      "0                             Fundamentals of Wavelets    Goswami, Jaideva   \n",
      "1                                           Data Smart       Foreman, John   \n",
      "2                             God Created the Integers    Hawking, Stephen   \n",
      "3                                    Superfreakonomics     Dubner, Stephen   \n",
      "4                                          Orientalism        Said, Edward   \n",
      "..                                                 ...                 ...   \n",
      "114                              Rationality & Freedom        Sen, Amartya   \n",
      "115  Clash of Civilizations and Remaking of the Wor...  Huntington, Samuel   \n",
      "116                                    Uncommon Wisdom      Capra, Fritjof   \n",
      "117                                                One       Bach, Richard   \n",
      "119                                   To Sir With Love         Braithwaite   \n",
      "\n",
      "                 Genre  Height       Publisher  \n",
      "0    signal_processing     228           Wiley  \n",
      "1         data_science     235           Wiley  \n",
      "2          mathematics     197         Penguin  \n",
      "3            economics     179   HarperCollins  \n",
      "4              history     197         Penguin  \n",
      "..                 ...     ...             ...  \n",
      "114          economics     213        Springer  \n",
      "115            history     228  Simon&Schuster  \n",
      "116         nonfiction     197         Fontana  \n",
      "117         nonfiction     172            Dell  \n",
      "119            fiction     197         Penguin  \n",
      "\n",
      "[112 rows x 5 columns]\n",
      "Title        0\n",
      "Author       0\n",
      "Genre        0\n",
      "Height       0\n",
      "Publisher    0\n",
      "dtype: int64\n"
     ]
    }
   ],
   "source": [
    "# Assuming 'data' is your DataFrame\n",
    "data_cleaned = data.dropna()\n",
    "\n",
    "# Print the cleaned DataFrame\n",
    "print(data_cleaned)\n",
    "\n",
    "# Verify if there are any null values after removal\n",
    "print(data_cleaned.isnull().sum())\n"
   ]
  },
  {
   "cell_type": "code",
   "execution_count": 8,
   "id": "fa6df051-6820-4756-bafc-50ae8a522096",
   "metadata": {},
   "outputs": [
    {
     "name": "stdout",
     "output_type": "stream",
     "text": [
      "                                                 Title              Author  \\\n",
      "0                             Fundamentals of Wavelets    Goswami, Jaideva   \n",
      "1                                           Data Smart       Foreman, John   \n",
      "2                             God Created the Integers    Hawking, Stephen   \n",
      "3                                    Superfreakonomics     Dubner, Stephen   \n",
      "4                                          Orientalism        Said, Edward   \n",
      "..                                                 ...                 ...   \n",
      "114                              Rationality & Freedom        Sen, Amartya   \n",
      "115  Clash of Civilizations and Remaking of the Wor...  Huntington, Samuel   \n",
      "116                                    Uncommon Wisdom      Capra, Fritjof   \n",
      "117                                                One       Bach, Richard   \n",
      "119                                   To Sir With Love         Braithwaite   \n",
      "\n",
      "                 Genre  Height       Publisher  \n",
      "0    signal_processing     228           Wiley  \n",
      "1         data_science     235           Wiley  \n",
      "2          mathematics     197         Penguin  \n",
      "3            economics     179   HarperCollins  \n",
      "4              history     197         Penguin  \n",
      "..                 ...     ...             ...  \n",
      "114          economics     213        Springer  \n",
      "115            history     228  Simon&Schuster  \n",
      "116         nonfiction     197         Fontana  \n",
      "117         nonfiction     172            Dell  \n",
      "119            fiction     197         Penguin  \n",
      "\n",
      "[112 rows x 5 columns]\n",
      "Title        0\n",
      "Author       0\n",
      "Genre        0\n",
      "Height       0\n",
      "Publisher    0\n",
      "dtype: int64\n"
     ]
    }
   ],
   "source": [
    "# Assuming 'data' is your DataFrame\n",
    "data.dropna(inplace=True)\n",
    "\n",
    "# Print the original DataFrame after removing null values\n",
    "print(data)\n",
    "\n",
    "# Verify if there are any null values after removal\n",
    "print(data.isnull().sum())\n"
   ]
  },
  {
   "cell_type": "code",
   "execution_count": 9,
   "id": "6ed51c2c-1131-44bc-adea-59d7635ec3ce",
   "metadata": {},
   "outputs": [
    {
     "data": {
      "text/plain": [
       "Title        0\n",
       "Author       0\n",
       "Genre        0\n",
       "Height       0\n",
       "Publisher    0\n",
       "dtype: int64"
      ]
     },
     "execution_count": 9,
     "metadata": {},
     "output_type": "execute_result"
    }
   ],
   "source": [
    "data.isnull().sum() #no value is missing\n"
   ]
  },
  {
   "cell_type": "code",
   "execution_count": 18,
   "id": "273e08af-be32-4fad-a364-a0fdfb93e8e2",
   "metadata": {},
   "outputs": [],
   "source": [
    "data = data[[\"Title\",\"Author\",\"Genre\",\"Publisher\"]]\n"
   ]
  },
  {
   "cell_type": "code",
   "execution_count": 19,
   "id": "4bec9ec7-be4d-4a02-a720-e15b44f64922",
   "metadata": {},
   "outputs": [
    {
     "data": {
      "text/html": [
       "<div>\n",
       "<style scoped>\n",
       "    .dataframe tbody tr th:only-of-type {\n",
       "        vertical-align: middle;\n",
       "    }\n",
       "\n",
       "    .dataframe tbody tr th {\n",
       "        vertical-align: top;\n",
       "    }\n",
       "\n",
       "    .dataframe thead th {\n",
       "        text-align: right;\n",
       "    }\n",
       "</style>\n",
       "<table border=\"1\" class=\"dataframe\">\n",
       "  <thead>\n",
       "    <tr style=\"text-align: right;\">\n",
       "      <th></th>\n",
       "      <th>Title</th>\n",
       "      <th>Author</th>\n",
       "      <th>Genre</th>\n",
       "      <th>Publisher</th>\n",
       "    </tr>\n",
       "  </thead>\n",
       "  <tbody>\n",
       "    <tr>\n",
       "      <th>0</th>\n",
       "      <td>Fundamentals of Wavelets</td>\n",
       "      <td>Goswami, Jaideva</td>\n",
       "      <td>signal_processing</td>\n",
       "      <td>Wiley</td>\n",
       "    </tr>\n",
       "    <tr>\n",
       "      <th>1</th>\n",
       "      <td>Data Smart</td>\n",
       "      <td>Foreman, John</td>\n",
       "      <td>data_science</td>\n",
       "      <td>Wiley</td>\n",
       "    </tr>\n",
       "    <tr>\n",
       "      <th>2</th>\n",
       "      <td>God Created the Integers</td>\n",
       "      <td>Hawking, Stephen</td>\n",
       "      <td>mathematics</td>\n",
       "      <td>Penguin</td>\n",
       "    </tr>\n",
       "    <tr>\n",
       "      <th>3</th>\n",
       "      <td>Superfreakonomics</td>\n",
       "      <td>Dubner, Stephen</td>\n",
       "      <td>economics</td>\n",
       "      <td>HarperCollins</td>\n",
       "    </tr>\n",
       "    <tr>\n",
       "      <th>4</th>\n",
       "      <td>Orientalism</td>\n",
       "      <td>Said, Edward</td>\n",
       "      <td>history</td>\n",
       "      <td>Penguin</td>\n",
       "    </tr>\n",
       "  </tbody>\n",
       "</table>\n",
       "</div>"
      ],
      "text/plain": [
       "                      Title            Author              Genre  \\\n",
       "0  Fundamentals of Wavelets  Goswami, Jaideva  signal_processing   \n",
       "1                Data Smart     Foreman, John       data_science   \n",
       "2  God Created the Integers  Hawking, Stephen        mathematics   \n",
       "3         Superfreakonomics   Dubner, Stephen          economics   \n",
       "4               Orientalism      Said, Edward            history   \n",
       "\n",
       "       Publisher  \n",
       "0          Wiley  \n",
       "1          Wiley  \n",
       "2        Penguin  \n",
       "3  HarperCollins  \n",
       "4        Penguin  "
      ]
     },
     "execution_count": 19,
     "metadata": {},
     "output_type": "execute_result"
    }
   ],
   "source": [
    "data.head(5)\n"
   ]
  },
  {
   "cell_type": "code",
   "execution_count": 21,
   "id": "657d7111-26b7-415a-baf1-c2f538e756a1",
   "metadata": {},
   "outputs": [],
   "source": [
    "data['tags'] = data['Title'] + data['Author'] + data['Genre'] + data['Publisher']"
   ]
  },
  {
   "cell_type": "code",
   "execution_count": 22,
   "id": "1da6e8ad-700f-4301-a42b-2d39c21e7934",
   "metadata": {},
   "outputs": [
    {
     "data": {
      "text/html": [
       "<div>\n",
       "<style scoped>\n",
       "    .dataframe tbody tr th:only-of-type {\n",
       "        vertical-align: middle;\n",
       "    }\n",
       "\n",
       "    .dataframe tbody tr th {\n",
       "        vertical-align: top;\n",
       "    }\n",
       "\n",
       "    .dataframe thead th {\n",
       "        text-align: right;\n",
       "    }\n",
       "</style>\n",
       "<table border=\"1\" class=\"dataframe\">\n",
       "  <thead>\n",
       "    <tr style=\"text-align: right;\">\n",
       "      <th></th>\n",
       "      <th>Title</th>\n",
       "      <th>Author</th>\n",
       "      <th>Genre</th>\n",
       "      <th>Publisher</th>\n",
       "      <th>tags</th>\n",
       "    </tr>\n",
       "  </thead>\n",
       "  <tbody>\n",
       "    <tr>\n",
       "      <th>0</th>\n",
       "      <td>Fundamentals of Wavelets</td>\n",
       "      <td>Goswami, Jaideva</td>\n",
       "      <td>signal_processing</td>\n",
       "      <td>Wiley</td>\n",
       "      <td>Fundamentals of WaveletsGoswami, Jaidevasignal...</td>\n",
       "    </tr>\n",
       "    <tr>\n",
       "      <th>1</th>\n",
       "      <td>Data Smart</td>\n",
       "      <td>Foreman, John</td>\n",
       "      <td>data_science</td>\n",
       "      <td>Wiley</td>\n",
       "      <td>Data SmartForeman, Johndata_scienceWiley</td>\n",
       "    </tr>\n",
       "    <tr>\n",
       "      <th>2</th>\n",
       "      <td>God Created the Integers</td>\n",
       "      <td>Hawking, Stephen</td>\n",
       "      <td>mathematics</td>\n",
       "      <td>Penguin</td>\n",
       "      <td>God Created the IntegersHawking, Stephenmathem...</td>\n",
       "    </tr>\n",
       "    <tr>\n",
       "      <th>3</th>\n",
       "      <td>Superfreakonomics</td>\n",
       "      <td>Dubner, Stephen</td>\n",
       "      <td>economics</td>\n",
       "      <td>HarperCollins</td>\n",
       "      <td>SuperfreakonomicsDubner, StepheneconomicsHarpe...</td>\n",
       "    </tr>\n",
       "    <tr>\n",
       "      <th>4</th>\n",
       "      <td>Orientalism</td>\n",
       "      <td>Said, Edward</td>\n",
       "      <td>history</td>\n",
       "      <td>Penguin</td>\n",
       "      <td>OrientalismSaid, EdwardhistoryPenguin</td>\n",
       "    </tr>\n",
       "  </tbody>\n",
       "</table>\n",
       "</div>"
      ],
      "text/plain": [
       "                      Title            Author              Genre  \\\n",
       "0  Fundamentals of Wavelets  Goswami, Jaideva  signal_processing   \n",
       "1                Data Smart     Foreman, John       data_science   \n",
       "2  God Created the Integers  Hawking, Stephen        mathematics   \n",
       "3         Superfreakonomics   Dubner, Stephen          economics   \n",
       "4               Orientalism      Said, Edward            history   \n",
       "\n",
       "       Publisher                                               tags  \n",
       "0          Wiley  Fundamentals of WaveletsGoswami, Jaidevasignal...  \n",
       "1          Wiley           Data SmartForeman, Johndata_scienceWiley  \n",
       "2        Penguin  God Created the IntegersHawking, Stephenmathem...  \n",
       "3  HarperCollins  SuperfreakonomicsDubner, StepheneconomicsHarpe...  \n",
       "4        Penguin              OrientalismSaid, EdwardhistoryPenguin  "
      ]
     },
     "execution_count": 22,
     "metadata": {},
     "output_type": "execute_result"
    }
   ],
   "source": [
    "data.head(5)\n"
   ]
  },
  {
   "cell_type": "code",
   "execution_count": 23,
   "id": "a03b54af-98ab-40c0-b792-013d5dad8ede",
   "metadata": {},
   "outputs": [
    {
     "data": {
      "text/plain": [
       "'Data SmartForeman, Johndata_scienceWiley'"
      ]
     },
     "execution_count": 23,
     "metadata": {},
     "output_type": "execute_result"
    }
   ],
   "source": [
    "data['tags'].iloc[1]\n"
   ]
  },
  {
   "cell_type": "code",
   "execution_count": 24,
   "id": "f715ecd9-987d-494a-8696-8aa6d49134c9",
   "metadata": {},
   "outputs": [],
   "source": [
    "new_df = data[['Title','tags']]\n"
   ]
  },
  {
   "cell_type": "code",
   "execution_count": 26,
   "id": "a7bae16c-42ff-42e7-92d9-62f1d489dbc1",
   "metadata": {},
   "outputs": [
    {
     "data": {
      "text/html": [
       "<div>\n",
       "<style scoped>\n",
       "    .dataframe tbody tr th:only-of-type {\n",
       "        vertical-align: middle;\n",
       "    }\n",
       "\n",
       "    .dataframe tbody tr th {\n",
       "        vertical-align: top;\n",
       "    }\n",
       "\n",
       "    .dataframe thead th {\n",
       "        text-align: right;\n",
       "    }\n",
       "</style>\n",
       "<table border=\"1\" class=\"dataframe\">\n",
       "  <thead>\n",
       "    <tr style=\"text-align: right;\">\n",
       "      <th></th>\n",
       "      <th>Title</th>\n",
       "      <th>tags</th>\n",
       "    </tr>\n",
       "  </thead>\n",
       "  <tbody>\n",
       "    <tr>\n",
       "      <th>0</th>\n",
       "      <td>Fundamentals of Wavelets</td>\n",
       "      <td>Fundamentals of WaveletsGoswami, Jaidevasignal...</td>\n",
       "    </tr>\n",
       "    <tr>\n",
       "      <th>1</th>\n",
       "      <td>Data Smart</td>\n",
       "      <td>Data SmartForeman, Johndata_scienceWiley</td>\n",
       "    </tr>\n",
       "    <tr>\n",
       "      <th>2</th>\n",
       "      <td>God Created the Integers</td>\n",
       "      <td>God Created the IntegersHawking, Stephenmathem...</td>\n",
       "    </tr>\n",
       "    <tr>\n",
       "      <th>3</th>\n",
       "      <td>Superfreakonomics</td>\n",
       "      <td>SuperfreakonomicsDubner, StepheneconomicsHarpe...</td>\n",
       "    </tr>\n",
       "    <tr>\n",
       "      <th>4</th>\n",
       "      <td>Orientalism</td>\n",
       "      <td>OrientalismSaid, EdwardhistoryPenguin</td>\n",
       "    </tr>\n",
       "  </tbody>\n",
       "</table>\n",
       "</div>"
      ],
      "text/plain": [
       "                      Title                                               tags\n",
       "0  Fundamentals of Wavelets  Fundamentals of WaveletsGoswami, Jaidevasignal...\n",
       "1                Data Smart           Data SmartForeman, Johndata_scienceWiley\n",
       "2  God Created the Integers  God Created the IntegersHawking, Stephenmathem...\n",
       "3         Superfreakonomics  SuperfreakonomicsDubner, StepheneconomicsHarpe...\n",
       "4               Orientalism              OrientalismSaid, EdwardhistoryPenguin"
      ]
     },
     "execution_count": 26,
     "metadata": {},
     "output_type": "execute_result"
    }
   ],
   "source": [
    "new_df.head(5)\n"
   ]
  },
  {
   "cell_type": "code",
   "execution_count": 27,
   "id": "96b2e6ce-1ae8-4743-9324-db64ba53a9e0",
   "metadata": {},
   "outputs": [
    {
     "name": "stderr",
     "output_type": "stream",
     "text": [
      "/tmp/ipykernel_103/4023416082.py:1: SettingWithCopyWarning: \n",
      "A value is trying to be set on a copy of a slice from a DataFrame.\n",
      "Try using .loc[row_indexer,col_indexer] = value instead\n",
      "\n",
      "See the caveats in the documentation: https://pandas.pydata.org/pandas-docs/stable/user_guide/indexing.html#returning-a-view-versus-a-copy\n",
      "  new_df['tags'] = data['tags'].str.replace(',',' ')\n"
     ]
    }
   ],
   "source": [
    "new_df['tags'] = data['tags'].str.replace(',',' ')\n"
   ]
  },
  {
   "cell_type": "code",
   "execution_count": 28,
   "id": "0d3f7f0e-1138-4ba3-a337-3c7c2f3ae2cb",
   "metadata": {},
   "outputs": [
    {
     "name": "stderr",
     "output_type": "stream",
     "text": [
      "/tmp/ipykernel_103/4187296763.py:1: SettingWithCopyWarning: \n",
      "A value is trying to be set on a copy of a slice from a DataFrame.\n",
      "Try using .loc[row_indexer,col_indexer] = value instead\n",
      "\n",
      "See the caveats in the documentation: https://pandas.pydata.org/pandas-docs/stable/user_guide/indexing.html#returning-a-view-versus-a-copy\n",
      "  new_df['Title'] = data['Title'].str.replace(',',' ')\n"
     ]
    }
   ],
   "source": [
    "new_df['Title'] = data['Title'].str.replace(',',' ')\n"
   ]
  },
  {
   "cell_type": "code",
   "execution_count": 29,
   "id": "d77de066-2828-4f6a-bc25-9bb0f8695f17",
   "metadata": {},
   "outputs": [
    {
     "name": "stderr",
     "output_type": "stream",
     "text": [
      "/tmp/ipykernel_103/1696419158.py:1: SettingWithCopyWarning: \n",
      "A value is trying to be set on a copy of a slice from a DataFrame\n",
      "\n",
      "See the caveats in the documentation: https://pandas.pydata.org/pandas-docs/stable/user_guide/indexing.html#returning-a-view-versus-a-copy\n",
      "  new_df.rename(columns = {'Title':'Title'}, inplace = True)\n"
     ]
    }
   ],
   "source": [
    "new_df.rename(columns = {'Title':'Title'}, inplace = True)\n"
   ]
  },
  {
   "cell_type": "code",
   "execution_count": 30,
   "id": "66b2ff98-3ecb-4183-9d92-f91ecff65469",
   "metadata": {},
   "outputs": [
    {
     "name": "stderr",
     "output_type": "stream",
     "text": [
      "/tmp/ipykernel_103/1318950780.py:1: SettingWithCopyWarning: \n",
      "A value is trying to be set on a copy of a slice from a DataFrame.\n",
      "Try using .loc[row_indexer,col_indexer] = value instead\n",
      "\n",
      "See the caveats in the documentation: https://pandas.pydata.org/pandas-docs/stable/user_guide/indexing.html#returning-a-view-versus-a-copy\n",
      "  new_df['tags'] = new_df['tags'].apply(lambda x:x.lower()) #lower casing the\n"
     ]
    }
   ],
   "source": [
    "new_df['tags'] = new_df['tags'].apply(lambda x:x.lower()) #lower casing the "
   ]
  },
  {
   "cell_type": "code",
   "execution_count": 31,
   "id": "1c92d11d-da60-4bec-ba09-7f5ba15ee9e6",
   "metadata": {},
   "outputs": [
    {
     "data": {
      "text/html": [
       "<div>\n",
       "<style scoped>\n",
       "    .dataframe tbody tr th:only-of-type {\n",
       "        vertical-align: middle;\n",
       "    }\n",
       "\n",
       "    .dataframe tbody tr th {\n",
       "        vertical-align: top;\n",
       "    }\n",
       "\n",
       "    .dataframe thead th {\n",
       "        text-align: right;\n",
       "    }\n",
       "</style>\n",
       "<table border=\"1\" class=\"dataframe\">\n",
       "  <thead>\n",
       "    <tr style=\"text-align: right;\">\n",
       "      <th></th>\n",
       "      <th>Title</th>\n",
       "      <th>tags</th>\n",
       "    </tr>\n",
       "  </thead>\n",
       "  <tbody>\n",
       "    <tr>\n",
       "      <th>0</th>\n",
       "      <td>Fundamentals of Wavelets</td>\n",
       "      <td>fundamentals of waveletsgoswami  jaidevasignal...</td>\n",
       "    </tr>\n",
       "    <tr>\n",
       "      <th>1</th>\n",
       "      <td>Data Smart</td>\n",
       "      <td>data smartforeman  johndata_sciencewiley</td>\n",
       "    </tr>\n",
       "    <tr>\n",
       "      <th>2</th>\n",
       "      <td>God Created the Integers</td>\n",
       "      <td>god created the integershawking  stephenmathem...</td>\n",
       "    </tr>\n",
       "    <tr>\n",
       "      <th>3</th>\n",
       "      <td>Superfreakonomics</td>\n",
       "      <td>superfreakonomicsdubner  stepheneconomicsharpe...</td>\n",
       "    </tr>\n",
       "    <tr>\n",
       "      <th>4</th>\n",
       "      <td>Orientalism</td>\n",
       "      <td>orientalismsaid  edwardhistorypenguin</td>\n",
       "    </tr>\n",
       "  </tbody>\n",
       "</table>\n",
       "</div>"
      ],
      "text/plain": [
       "                      Title                                               tags\n",
       "0  Fundamentals of Wavelets  fundamentals of waveletsgoswami  jaidevasignal...\n",
       "1                Data Smart           data smartforeman  johndata_sciencewiley\n",
       "2  God Created the Integers  god created the integershawking  stephenmathem...\n",
       "3         Superfreakonomics  superfreakonomicsdubner  stepheneconomicsharpe...\n",
       "4               Orientalism              orientalismsaid  edwardhistorypenguin"
      ]
     },
     "execution_count": 31,
     "metadata": {},
     "output_type": "execute_result"
    }
   ],
   "source": [
    "new_df.head(5)\n"
   ]
  },
  {
   "cell_type": "code",
   "execution_count": 32,
   "id": "af2c3162-78d7-4869-a852-19d3cca15cdb",
   "metadata": {},
   "outputs": [
    {
     "data": {
      "text/plain": [
       "(112, 2)"
      ]
     },
     "execution_count": 32,
     "metadata": {},
     "output_type": "execute_result"
    }
   ],
   "source": [
    "new_df.shape #3522 courses with tags and 2 columns (course_name and tags)\n"
   ]
  },
  {
   "cell_type": "code",
   "execution_count": 33,
   "id": "541b0663-1977-4f4f-85b6-4d8a5bfd2397",
   "metadata": {},
   "outputs": [],
   "source": [
    "from sklearn.feature_extraction.text import CountVectorizer\n"
   ]
  },
  {
   "cell_type": "code",
   "execution_count": 34,
   "id": "668c012c-4884-4a91-ba46-2272b9751286",
   "metadata": {},
   "outputs": [],
   "source": [
    "cv = CountVectorizer(max_features=5000,stop_words='english')\n"
   ]
  },
  {
   "cell_type": "code",
   "execution_count": 35,
   "id": "2cdc1a5d-10ce-4cde-8f92-5dd989c93ee6",
   "metadata": {},
   "outputs": [],
   "source": [
    "vectors = cv.fit_transform(new_df['tags']).toarray()\n"
   ]
  },
  {
   "cell_type": "code",
   "execution_count": 36,
   "id": "99700bc2-f648-4230-b649-399e81ca7e2c",
   "metadata": {},
   "outputs": [
    {
     "data": {
      "text/plain": [
       "array([[0, 0, 0, ..., 0, 0, 0],\n",
       "       [0, 0, 0, ..., 0, 0, 0],\n",
       "       [0, 0, 0, ..., 0, 0, 0],\n",
       "       ...,\n",
       "       [0, 0, 0, ..., 0, 0, 0],\n",
       "       [0, 0, 0, ..., 0, 0, 0],\n",
       "       [0, 0, 0, ..., 0, 0, 0]])"
      ]
     },
     "execution_count": 36,
     "metadata": {},
     "output_type": "execute_result"
    }
   ],
   "source": [
    "vectors"
   ]
  },
  {
   "cell_type": "code",
   "execution_count": 37,
   "id": "8eab5b6b-689b-479d-9192-4e5e27f0c860",
   "metadata": {},
   "outputs": [
    {
     "ename": "ModuleNotFoundError",
     "evalue": "No module named 'nltk'",
     "output_type": "error",
     "traceback": [
      "\u001b[0;31m---------------------------------------------------------------------------\u001b[0m",
      "\u001b[0;31mModuleNotFoundError\u001b[0m                       Traceback (most recent call last)",
      "Cell \u001b[0;32mIn[37], line 1\u001b[0m\n\u001b[0;32m----> 1\u001b[0m \u001b[38;5;28;01mimport\u001b[39;00m \u001b[38;5;21;01mnltk\u001b[39;00m \u001b[38;5;66;03m#for stemming process\u001b[39;00m\n",
      "\u001b[0;31mModuleNotFoundError\u001b[0m: No module named 'nltk'"
     ]
    }
   ],
   "source": [
    "import nltk #for stemming process\n"
   ]
  },
  {
   "cell_type": "code",
   "execution_count": 38,
   "id": "fcc86e37-ff91-43c8-8d34-57eeb83d39fd",
   "metadata": {},
   "outputs": [
    {
     "name": "stdout",
     "output_type": "stream",
     "text": [
      "Collecting nltk\n",
      "  Downloading nltk-3.8.1-py3-none-any.whl (1.5 MB)\n",
      "\u001b[2K     \u001b[90m━━━━━━━━━━━━━━━━━━━━━━━━━━━━━━━━━━━━━━━━\u001b[0m \u001b[32m1.5/1.5 MB\u001b[0m \u001b[31m28.9 MB/s\u001b[0m eta \u001b[36m0:00:00\u001b[0ma \u001b[36m0:00:01\u001b[0m\n",
      "\u001b[?25hCollecting regex>=2021.8.3\n",
      "  Downloading regex-2023.12.25-cp310-cp310-manylinux_2_17_x86_64.manylinux2014_x86_64.whl (773 kB)\n",
      "\u001b[2K     \u001b[90m━━━━━━━━━━━━━━━━━━━━━━━━━━━━━━━━━━━━━━\u001b[0m \u001b[32m774.0/774.0 kB\u001b[0m \u001b[31m54.7 MB/s\u001b[0m eta \u001b[36m0:00:00\u001b[0m\n",
      "\u001b[?25hRequirement already satisfied: click in /opt/conda/lib/python3.10/site-packages (from nltk) (8.1.3)\n",
      "Requirement already satisfied: tqdm in /opt/conda/lib/python3.10/site-packages (from nltk) (4.64.1)\n",
      "Requirement already satisfied: joblib in /opt/conda/lib/python3.10/site-packages (from nltk) (1.2.0)\n",
      "Installing collected packages: regex, nltk\n",
      "Successfully installed nltk-3.8.1 regex-2023.12.25\n"
     ]
    }
   ],
   "source": [
    "!pip install nltk\n"
   ]
  },
  {
   "cell_type": "code",
   "execution_count": 39,
   "id": "ef6030c6-6a66-4c1b-b810-eea343822fd1",
   "metadata": {},
   "outputs": [],
   "source": [
    "import nltk #for stemming process\n"
   ]
  },
  {
   "cell_type": "code",
   "execution_count": 40,
   "id": "e6df8991-0c91-42bc-9e9e-613de79b0e85",
   "metadata": {},
   "outputs": [],
   "source": [
    "from nltk.stem.porter import PorterStemmer\n",
    "ps = PorterStemmer()"
   ]
  },
  {
   "cell_type": "code",
   "execution_count": 41,
   "id": "ff1b1291-5e40-45ca-820d-0d79fbd41ae5",
   "metadata": {},
   "outputs": [],
   "source": [
    "#defining the stemming function\n",
    "def stem(text):\n",
    "    y=[]\n",
    "    \n",
    "    for i in text.split():\n",
    "        y.append(ps.stem(i))\n",
    "    \n",
    "    return \" \".join(y)"
   ]
  },
  {
   "cell_type": "code",
   "execution_count": 42,
   "id": "0df94f1c-80a3-45c0-98ce-5adcfc9a0a46",
   "metadata": {},
   "outputs": [
    {
     "name": "stderr",
     "output_type": "stream",
     "text": [
      "/tmp/ipykernel_103/3741851974.py:1: SettingWithCopyWarning: \n",
      "A value is trying to be set on a copy of a slice from a DataFrame.\n",
      "Try using .loc[row_indexer,col_indexer] = value instead\n",
      "\n",
      "See the caveats in the documentation: https://pandas.pydata.org/pandas-docs/stable/user_guide/indexing.html#returning-a-view-versus-a-copy\n",
      "  new_df['tags'] = new_df['tags'].apply(stem) #applying stemming on the tags column\n"
     ]
    }
   ],
   "source": [
    "new_df['tags'] = new_df['tags'].apply(stem) #applying stemming on the tags column"
   ]
  },
  {
   "cell_type": "code",
   "execution_count": 43,
   "id": "9b63e341-987f-4d93-b527-7546eb385ed2",
   "metadata": {},
   "outputs": [],
   "source": [
    "from sklearn.metrics.pairwise import cosine_similarity"
   ]
  },
  {
   "cell_type": "code",
   "execution_count": 44,
   "id": "89b64a8e-802d-4e1d-9ab1-d4dbe92b28ce",
   "metadata": {},
   "outputs": [],
   "source": [
    "similarity = cosine_similarity(vectors)"
   ]
  },
  {
   "cell_type": "code",
   "execution_count": 48,
   "id": "b6d06b15-04fd-4647-8290-7c5df861515d",
   "metadata": {},
   "outputs": [],
   "source": [
    "def recommend(course):\n",
    "    course_index = new_df[new_df['Title'] == course].index[0]\n",
    "    distances = similarity[course_index]\n",
    "    course_list = sorted(list(enumerate(distances)),reverse=True, key=lambda x:x[1])[1:7]\n",
    "    \n",
    "    for i in course_list:\n",
    "        print(new_df.iloc[i[0]].Title)"
   ]
  },
  {
   "cell_type": "code",
   "execution_count": 49,
   "id": "cbc06138-80af-4f60-91e1-4efbc1a384a6",
   "metadata": {},
   "outputs": [
    {
     "name": "stdout",
     "output_type": "stream",
     "text": [
      "Learning OpenCV\n",
      "Making Software\n",
      "Python for Data Analysis\n",
      "Nature of Statistical Learning Theory  The\n",
      "Fundamentals of Wavelets\n",
      "Data Smart\n"
     ]
    }
   ],
   "source": [
    "recommend('Machine Learning for Hackers') \n"
   ]
  },
  {
   "cell_type": "code",
   "execution_count": null,
   "id": "0a1b78d7-f2e2-43a9-b220-65d2ae1cd88b",
   "metadata": {},
   "outputs": [],
   "source": []
  }
 ],
 "metadata": {
  "kernelspec": {
   "display_name": "Python 3 (ipykernel)",
   "language": "python",
   "name": "python3"
  },
  "language_info": {
   "codemirror_mode": {
    "name": "ipython",
    "version": 3
   },
   "file_extension": ".py",
   "mimetype": "text/x-python",
   "name": "python",
   "nbconvert_exporter": "python",
   "pygments_lexer": "ipython3",
   "version": "3.10.8"
  }
 },
 "nbformat": 4,
 "nbformat_minor": 5
}
